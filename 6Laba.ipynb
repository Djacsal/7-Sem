{
 "cells": [
  {
   "cell_type": "markdown",
   "id": "a235b6ab-4500-42d9-bd83-30352174252f",
   "metadata": {},
   "source": [
    "# Лабораторная работа №1\n",
    "## ----------------------------------------------------------------------------------------------------------------------------------\n",
    "## Задание:\n",
    "1 . Провести классификацию найденного датасета, методами CatBoost . В формате Markdown написать пояснения. Объяснить почему были выбраны именно такие гиперпараметры, была ли перекрестная проверка, и т.д."
   ]
  },
  {
   "cell_type": "markdown",
   "id": "8796672a-1db3-48aa-a6ad-5d7ff72c7f5d",
   "metadata": {},
   "source": [
    "## Решение:\n",
    "### Подключаем библеотеки\n"
   ]
  },
  {
   "cell_type": "code",
   "execution_count": 1,
   "id": "341d81b7-569b-4cd9-84de-7afc92b81874",
   "metadata": {},
   "outputs": [
    {
     "name": "stdout",
     "output_type": "stream",
     "text": [
      "Defaulting to user installation because normal site-packages is not writeable\n",
      "Collecting catboost\n",
      "  Downloading catboost-1.2.2-cp310-cp310-win_amd64.whl (101.0 MB)\n",
      "     -------------------------------------- 101.0/101.0 MB 5.0 MB/s eta 0:00:00\n",
      "Collecting graphviz\n",
      "  Downloading graphviz-0.20.1-py3-none-any.whl (47 kB)\n",
      "     ---------------------------------------- 47.0/47.0 kB 2.3 MB/s eta 0:00:00\n",
      "Requirement already satisfied: six in a:\\anaconda\\lib\\site-packages (from catboost) (1.16.0)\n",
      "Requirement already satisfied: pandas>=0.24 in a:\\anaconda\\lib\\site-packages (from catboost) (1.5.3)\n",
      "Requirement already satisfied: matplotlib in a:\\anaconda\\lib\\site-packages (from catboost) (3.7.0)\n",
      "Requirement already satisfied: numpy>=1.16.0 in a:\\anaconda\\lib\\site-packages (from catboost) (1.23.5)\n",
      "Requirement already satisfied: scipy in a:\\anaconda\\lib\\site-packages (from catboost) (1.10.0)\n",
      "Requirement already satisfied: plotly in a:\\anaconda\\lib\\site-packages (from catboost) (5.9.0)\n",
      "Requirement already satisfied: python-dateutil>=2.8.1 in a:\\anaconda\\lib\\site-packages (from pandas>=0.24->catboost) (2.8.2)\n",
      "Requirement already satisfied: pytz>=2020.1 in a:\\anaconda\\lib\\site-packages (from pandas>=0.24->catboost) (2022.7)\n",
      "Requirement already satisfied: cycler>=0.10 in a:\\anaconda\\lib\\site-packages (from matplotlib->catboost) (0.11.0)\n",
      "Requirement already satisfied: packaging>=20.0 in a:\\anaconda\\lib\\site-packages (from matplotlib->catboost) (22.0)\n",
      "Requirement already satisfied: pillow>=6.2.0 in a:\\anaconda\\lib\\site-packages (from matplotlib->catboost) (9.4.0)\n",
      "Requirement already satisfied: fonttools>=4.22.0 in a:\\anaconda\\lib\\site-packages (from matplotlib->catboost) (4.25.0)\n",
      "Requirement already satisfied: contourpy>=1.0.1 in a:\\anaconda\\lib\\site-packages (from matplotlib->catboost) (1.0.5)\n",
      "Requirement already satisfied: pyparsing>=2.3.1 in a:\\anaconda\\lib\\site-packages (from matplotlib->catboost) (3.0.9)\n",
      "Requirement already satisfied: kiwisolver>=1.0.1 in a:\\anaconda\\lib\\site-packages (from matplotlib->catboost) (1.4.4)\n",
      "Requirement already satisfied: tenacity>=6.2.0 in a:\\anaconda\\lib\\site-packages (from plotly->catboost) (8.0.1)\n",
      "Installing collected packages: graphviz, catboost\n",
      "Successfully installed catboost-1.2.2 graphviz-0.20.1\n"
     ]
    }
   ],
   "source": [
    "!pip install catboost"
   ]
  },
  {
   "cell_type": "markdown",
   "id": "d14458c9-4f79-4d40-a760-7698d215aac7",
   "metadata": {},
   "source": [
    "### Ищем лучшие метрики и лучшее количество соседей"
   ]
  },
  {
   "cell_type": "code",
   "execution_count": 5,
   "id": "f2695c1b-fc45-414c-8d12-d2973950b3c4",
   "metadata": {},
   "outputs": [
    {
     "name": "stdout",
     "output_type": "stream",
     "text": [
      "Лучшие параметры для CatBoost: {'depth': 4, 'iterations': 200, 'learning_rate': 0.05}\n"
     ]
    }
   ],
   "source": [
    "import pandas as pd\n",
    "import numpy as np\n",
    "from sklearn.preprocessing import LabelEncoder\n",
    "from sklearn.model_selection import train_test_split, GridSearchCV\n",
    "from sklearn.neighbors import KNeighborsClassifier\n",
    "from sklearn.metrics import accuracy_score, classification_report\n",
    "from catboost import CatBoostClassifier\n",
    "import matplotlib.pyplot as plt\n",
    "\n",
    "Dataset = pd.read_csv('Dataset.csv')\n",
    "\n",
    "label_encoder = LabelEncoder()\n",
    "Dataset['hiring_event_job'] = label_encoder.fit_transform(Dataset['company'])\n",
    "\n",
    "X = Dataset.drop(columns=['hiring_event_job'])\n",
    "y = Dataset['hiring_event_job']\n",
    "\n",
    "non_numeric_columns = Dataset.select_dtypes(exclude=['number']).columns.tolist()\n",
    "Dataset = Dataset.drop(columns=non_numeric_columns)\n",
    "\n",
    "\n",
    "columns_to_fill = ['source_id', 'ad_id', 'hires_needed_exact', 'review_count']\n",
    "for column in columns_to_fill:\n",
    "    mean_value = Dataset[column].mean()\n",
    "    Dataset[column].fillna(mean_value, inplace=True)\n",
    "    \n",
    "X_train, X_test, y_train, y_test = train_test_split(X, y, test_size=0.4, random_state=42)\n",
    "\n",
    "catboost_params = {\n",
    "    'iterations': [100, 200, 300],\n",
    "    'learning_rate': [0.01, 0.05, 0.1],\n",
    "    'depth': [4, 6, 8]\n",
    "}\n",
    "\n",
    "catboost_model = CatBoostClassifier(verbose=False)\n",
    "\n",
    "catboost_grid_search = GridSearchCV(catboost_model, catboost_params, cv=5)\n",
    "catboost_grid_search.fit(X_train, y_train)\n",
    "\n",
    "best_catboost_params = catboost_grid_search.best_params_\n",
    "print(f\"Лучшие параметры для CatBoost: {best_catboost_params}\")\n"
   ]
  },
  {
   "cell_type": "markdown",
   "id": "9e299958-c745-4e2e-b871-4d648e6e2510",
   "metadata": {},
   "source": [
    "#### Обучение на лучших метриках и количестве соседей"
   ]
  },
  {
   "cell_type": "code",
   "execution_count": 6,
   "id": "e2aff059-42b7-48f1-9f1a-f0f2604dfa18",
   "metadata": {},
   "outputs": [
    {
     "name": "stdout",
     "output_type": "stream",
     "text": [
      "Точность CatBoost на тестовых данных: 0.32875\n",
      "Classification Report для CatBoost:\n",
      "              precision    recall  f1-score   support\n",
      "\n",
      "           0       0.33      0.40      0.36      5306\n",
      "           1       0.34      0.22      0.26      5416\n",
      "           2       0.33      0.37      0.35      5278\n",
      "\n",
      "    accuracy                           0.33     16000\n",
      "   macro avg       0.33      0.33      0.32     16000\n",
      "weighted avg       0.33      0.33      0.32     16000\n",
      "\n"
     ]
    }
   ],
   "source": [
    "best_catboost_model = CatBoostClassifier(**best_catboost_params, verbose=False)\n",
    "best_catboost_model.fit(X_train, y_train)\n",
    "\n",
    "y_pred_catboost = best_catboost_model.predict(X_test)\n",
    "\n",
    "accuracy_catboost = accuracy_score(y_test, y_pred_catboost)\n",
    "print(f\"Точность CatBoost на тестовых данных: {accuracy_catboost}\")\n",
    "\n",
    "print(\"Classification Report для CatBoost:\")\n",
    "print(classification_report(y_test, y_pred_catboost))"
   ]
  }
 ],
 "metadata": {
  "kernelspec": {
   "display_name": "Python 3 (ipykernel)",
   "language": "python",
   "name": "python3"
  },
  "language_info": {
   "codemirror_mode": {
    "name": "ipython",
    "version": 3
   },
   "file_extension": ".py",
   "mimetype": "text/x-python",
   "name": "python",
   "nbconvert_exporter": "python",
   "pygments_lexer": "ipython3",
   "version": "3.10.9"
  }
 },
 "nbformat": 4,
 "nbformat_minor": 5
}
