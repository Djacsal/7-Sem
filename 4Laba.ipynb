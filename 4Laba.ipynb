{
 "cells": [
  {
   "cell_type": "markdown",
   "id": "aab26f62-6a84-410d-94e5-652cc7cc4017",
   "metadata": {},
   "source": [
    "# Лабораторная работа №1\n",
    "## ----------------------------------------------------------------------------------------------------------------------------------\n",
    "## Задание:\n",
    "1 . Провести классификацию найденного датасета, методами наивного Байеса  . В формате Markdown написать пояснения. Объяснить почему были выбраны именно такие гиперпараметры, была ли перекрестная проверка, и т.д."
   ]
  },
  {
   "cell_type": "markdown",
   "id": "46b2f1a3-3ad3-4c8b-8745-a5682f9fb8cd",
   "metadata": {},
   "source": [
    "## Решение:\n",
    "### Ищем лучшие метрики с использованием \n"
   ]
  },
  {
   "cell_type": "code",
   "execution_count": 5,
   "id": "9faafc49-a602-41d2-9eb1-453cd5bb3aa4",
   "metadata": {},
   "outputs": [
    {
     "name": "stdout",
     "output_type": "stream",
     "text": [
      "Лучшая модель: GaussianNB\n",
      "Лучшие параметры: {'alpha': 0.1, 'binarize': 0.0}\n"
     ]
    }
   ],
   "source": [
    "import pandas as pd\n",
    "import numpy as np\n",
    "from sklearn.preprocessing import LabelEncoder\n",
    "from sklearn.model_selection import train_test_split, GridSearchCV\n",
    "from sklearn.naive_bayes import GaussianNB, BernoulliNB, MultinomialNB\n",
    "from sklearn.metrics import accuracy_score, classification_report\n",
    "import matplotlib.pyplot as plt\n",
    "from imblearn.under_sampling import RandomUnderSampler\n",
    "\n",
    "Dataset = pd.read_csv('Dataset.csv')  \n",
    "\n",
    "label_encoder = LabelEncoder()\n",
    "Dataset['hiring_event_job'] = label_encoder.fit_transform(Dataset['company'])\n",
    "\n",
    "non_numeric_columns = Dataset.select_dtypes(exclude=['number']).columns.tolist()\n",
    "Dataset = Dataset.drop(columns=non_numeric_columns)\n",
    "\n",
    "columns_to_fill = ['source_id', 'ad_id', 'hires_needed_exact', 'review_count']\n",
    "for column in columns_to_fill:\n",
    "    mean_value = Dataset[column].mean()\n",
    "    Dataset[column].fillna(mean_value, inplace=True)\n",
    "\n",
    "X = Dataset.drop('hiring_event_job', axis=1) \n",
    "y = Dataset['hiring_event_job']\n",
    "\n",
    "X_train, X_test, y_train, y_test = train_test_split(X, y, test_size=0.4, random_state=42)\n",
    "\n",
    "under_sampler = RandomUnderSampler(random_state=42)\n",
    "\n",
    "\n",
    "X_resampled, y_resampled = under_sampler.fit_resample(X_train, y_train)\n",
    "\n",
    "naive_bayes_models = {\n",
    "    'GaussianNB': GaussianNB(),\n",
    "    'MultinomialNB': MultinomialNB(),\n",
    "    'BernoulliNB': BernoulliNB(),\n",
    "}\n",
    "\n",
    "param_grid = {\n",
    "    'GaussianNB': {},\n",
    "    'MultinomialNB': {'alpha': [0.1, 0.5, 1.0]},\n",
    "    'BernoulliNB': {'alpha': [0.1, 0.5, 1.0], 'binarize': [0.0, 0.1, 0.2]},\n",
    "}\n",
    "\n",
    "scoring_metric = 'accuracy'\n",
    "\n",
    "best_models = {}\n",
    "for model_name, model in naive_bayes_models.items():\n",
    "    grid_search = GridSearchCV(model, param_grid[model_name], scoring=scoring_metric, cv=5)\n",
    "    grid_search.fit(X_resampled, y_resampled)\n",
    "    \n",
    "    best_models[model_name] = grid_search.best_estimator_\n",
    "\n",
    "best_model_name = max(best_models, key=lambda k: grid_search.cv_results_['mean_test_score'][grid_search.best_index_])\n",
    "best_model = best_models[best_model_name]\n",
    "\n",
    "print(f\"Лучшая модель: {best_model_name}\")\n",
    "print(f\"Лучшие параметры: {grid_search.best_params_}\")\n"
   ]
  },
  {
   "cell_type": "markdown",
   "id": "7937ee07-86c8-43ba-8782-d3b6bf14d2aa",
   "metadata": {},
   "source": [
    "### обучаем на лучьших гиперпараметрах"
   ]
  },
  {
   "cell_type": "code",
   "execution_count": 7,
   "id": "f4cf8c00-5339-4226-af10-afe3f428306d",
   "metadata": {},
   "outputs": [
    {
     "name": "stdout",
     "output_type": "stream",
     "text": [
      "Точность модели: 0.3333125\n",
      "              precision    recall  f1-score   support\n",
      "\n",
      "           0       0.33      0.27      0.30      5306\n",
      "           1       0.34      0.39      0.36      5416\n",
      "           2       0.33      0.33      0.33      5278\n",
      "\n",
      "    accuracy                           0.33     16000\n",
      "   macro avg       0.33      0.33      0.33     16000\n",
      "weighted avg       0.33      0.33      0.33     16000\n",
      "\n"
     ]
    }
   ],
   "source": [
    "best_model.fit(X_resampled, y_resampled)\n",
    "\n",
    "y_pred_full = best_model.predict(X_test)\n",
    "accuracy = accuracy_score(y_test, y_pred_full)\n",
    "classification_rep = classification_report(y_test, y_pred_full)\n",
    "print(f'Точность модели: {accuracy}')\n",
    "print(classification_rep)"
   ]
  },
  {
   "cell_type": "code",
   "execution_count": null,
   "id": "f59a05f8-affc-4ccc-9c09-c5c43585c741",
   "metadata": {},
   "outputs": [],
   "source": []
  },
  {
   "cell_type": "code",
   "execution_count": null,
   "id": "07618228-0e4c-44c8-a989-0f5814992ee3",
   "metadata": {},
   "outputs": [],
   "source": []
  },
  {
   "cell_type": "code",
   "execution_count": null,
   "id": "55182458-fc8f-4432-ac09-41f4eec70268",
   "metadata": {},
   "outputs": [],
   "source": []
  }
 ],
 "metadata": {
  "kernelspec": {
   "display_name": "Python 3 (ipykernel)",
   "language": "python",
   "name": "python3"
  },
  "language_info": {
   "codemirror_mode": {
    "name": "ipython",
    "version": 3
   },
   "file_extension": ".py",
   "mimetype": "text/x-python",
   "name": "python",
   "nbconvert_exporter": "python",
   "pygments_lexer": "ipython3",
   "version": "3.10.9"
  }
 },
 "nbformat": 4,
 "nbformat_minor": 5
}
